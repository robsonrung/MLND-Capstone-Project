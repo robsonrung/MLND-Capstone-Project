{
 "cells": [
  {
   "cell_type": "markdown",
   "metadata": {},
   "source": [
    "<h2><center>Programa Nanodegree Engenheiro de Machine Learning</center></h2>\n",
    "<h3><center>Proposta de projeto de conclusão de machine learning - Capstone</center></h3>\n",
    "<br>\n",
    "<center>  \n",
    "Robson Azevedo Rung<br>\n",
    "    <i>27/07/2019</i>\n",
    "</center>   "
   ]
  },
  {
   "cell_type": "markdown",
   "metadata": {},
   "source": [
    "\n",
    "### Background do domínio\n",
    "\n",
    "Imóveis são bens de grande relevância para qualquer sociedade, e têm seus preços formados não de forma única, mas a partir das características que possuem. [A]\n",
    "\n",
    "Assim sendo, os consumidores potenciais têm a percepção de diferenciar as diversas possibilidades de características em função do que é tido como prioritário. Desta maneira, um determinado consumidor pode escolher seu \"pacote\" de características disponíveis para cada bem ou serviço em função da percepção de utilidade.\n",
    "\n",
    "Muitos estudos buscam determinar os atributos intrínsecos e extrínsecos pertencentes a cada residência, a fim de verificar quais deles apresentam maior representatividade para a composição dos instrumentos de demanda e oferta, utilizando-se modelos de preços hedônicos, por meio dos quais é possível analisar a importância relativa de cada atributo em função dos diferentes perfis sociodemográficos. [B]"
   ]
  },
  {
   "cell_type": "markdown",
   "metadata": {},
   "source": [
    "### Enunciação do problema\n",
    " \n",
    "Uma das atividades de empresas e profissionais do ramo imobiliário é a analisar o valor de imóveis, com objetivo de vendê-los em tempo razoável e maximizar seus lucros.\n",
    "\n",
    "Entender quais características são as mais relevantes e como impactam os preços é tarefa complexa por si só. Além disso, tais fatores podem mudar ao longo do tempo e variam entre regiões geográficas. Podem, ainda, ser afetadas por diferenças culturais e climáticas.\n",
    "\n",
    "Por conseguinte, o uso de técnicas de machine learning pode ser de grande valia para esse importante ramo da atividade econômica."
   ]
  },
  {
   "cell_type": "markdown",
   "metadata": {},
   "source": [
    "### Conjunto de Dados e Inputs\n",
    "\n",
    "O conjunto de dados deste trabalho será aquele disponibilizado na competição intitulada *\"House Prices: Advanced Regression Techniques\"* da plataforma Kaggle. [C]\n",
    "\n",
    "Constam dos dados diversos atributos, por exemplo:\n",
    "\n",
    "- Tipo da propriedade;\n",
    "- Tamanho do lote;\n",
    "- Recursos públicos disponíveis (eletricidade, gás, água e saneamento);\n",
    "- Condições de acesso;\n",
    "- Acabamento (materiais);\n",
    "- Estado de conservação;\n",
    "- Tipo da fundação;\n",
    "- Tipo de aquecimento;\n",
    "- Sistema elétrico;\n",
    "- Características da garagem;\n",
    "- Idade do imóvel;\n",
    "- etc.\n",
    "\n",
    "Os dados são fornecidos em dois grupos, um de treinamento e outro de teste."
   ]
  },
  {
   "cell_type": "markdown",
   "metadata": {},
   "source": [
    "### Explanação da solução\n",
    "\n",
    "Para resolver o problema proposto serão aplicadas técnicas de machine learning, mais especificamente, dois algoritmos de aprendizagem supervisionada para realização de regressões: regressão linear e árvore de decisão.\n",
    "\n",
    "O objetivo de uma regressão é prever uma variável alvo a partir de outras variáveis de entrada. É necessária a existência de um conjunto de dados com vários exemplos de variáveis de entrada e seus respectivos valores para a variável alvo, de modo que os algoritmos possam ser treinados para encontrar a correlação entre os dados. \n",
    "\n",
    "Após o treinamento, será possível prever a variável alvo para novos dados de entrada que não constam da base de dados inicial.\n",
    "\n",
    "Além disso, a mesma tarefa será realizada usando técnicas de deep learning. Será criada e treinada uma rede neural com os dados fornecidos.\n",
    "\n",
    "Será possível, portanto, comparar a performance das duas técnicas.\n",
    "\n",
    "Os códigos serão escritos em Python, usando as bibliotecas NumPy, Pandas, Scikit-learn, Seaborn, Matplotlib e Keras."
   ]
  },
  {
   "cell_type": "markdown",
   "metadata": {},
   "source": [
    "### Avaliação Métrica\n",
    "\n",
    "Para avaliar a performance dos modelos, será calculado o coeficiente de determinação (R2), um modelo bastante usado para analisar regressões.\n",
    "\n",
    "O valor de R2 indica o percentual de correlação quadrática entre os valores previstos e os valores reais. Quando o resultado é igual a 0, o modelo de regressão se equivale a um modelo que sempre tem como resultado a média amostral (dados de treinamento). Por outro lado, quando R2 é igual a 1, significa que o modelo foi capaz de prever com precisão os valores da variável alvo.\n",
    "\n",
    "É possível que R2 tenha como resultado um valor negativo, o que significa que o modelo de regressão é pior do que um modelo que sempre prevê a média."
   ]
  },
  {
   "cell_type": "markdown",
   "metadata": {},
   "source": [
    "### Design do projeto\n",
    "\n",
    "O primeiro passo será explorar os dados de modo a tentar entender um pouco a relação entre as características dos imóveis e seus valores de venda, bem como possíveis correlações entre as características. Algumas visualizações serão usadas para esse fim.\n",
    "\n",
    "Serão calculadas, também, as estatísticas da base de treinamento, como média, mediana, desvio padrão, valores máximos e mínimos. \n",
    "\n",
    "Na sequência, uma busca por *outliers* e dados faltantes será realizada, de modo a evitar distorções nos modelos durante o treinamento.\n",
    "\n",
    "Um passo importante virá a seguir, que é a transformação dos atributos (*feature transformation*), no qual serão analisados os seguintes aspectos:\n",
    "- Existência de dados ordinais textuais que precisam ser convertidos em numéricos;\n",
    "- Normalização dos dados, com o objetivo de não permitir que algumas características tenham mais peso no treinamento simplesmente por suas faixas de valores serem maiores (isso também será muito útil para o treinamento da rede neural);\n",
    "- Existência e ajuste de assimetrias (*skew*);\n",
    "- One-hot encode de variáveis categóricas.\n",
    "    \n",
    "Dar-se-á, então, a execução de alguns passos complementares:\n",
    "- Regularização (*regularization*) e seleção de atributos (*feature selection*);\n",
    "- Redução de dimensionalidade usando PCA (*Principal Component Analysis*).\n",
    "    \n",
    "Agora será realizado o treinamento dos modelos. Para o caso da aprendizagem supervisionada, será conduzida uma otimização dos hiperparâmetros usando a técnica de *grid search*.\n",
    "\n",
    "For fim, o coeficiente de determinação será calculado para avaliar a performance dos modelos."
   ]
  },
  {
   "cell_type": "markdown",
   "metadata": {},
   "source": [
    "### Modelo de benchmark\n",
    "\n",
    "Considerando tratar-se de uma competição do Kaggle, a ideia é usar o ranking da competição para avaliar se os modelos desenvolvidos neste projeto tiveram bons resultados.\n",
    "\n",
    "Para isso, o melhor resultado obtido dentre os modelos propostos será enviado para avaliação por meio da página da competição."
   ]
  },
  {
   "cell_type": "markdown",
   "metadata": {},
   "source": [
    "#### Referências"
   ]
  },
  {
   "cell_type": "markdown",
   "metadata": {},
   "source": [
    "[A] Almeida, Pedro Henrique Ramos. Fatores determinantes para a formação de preço no mercado imobiliário de Brasília. Brasília. 2001. Universidade de Brasília. Disponível em [http://bdm.unb.br/bitstream/10483/2122/1/2011_PedroHenriqueRamosdeAlmeida.pdf](http://bdm.unb.br/bitstream/10483/2122/1/2011_PedroHenriqueRamosdeAlmeida.pdf)\n",
    "\n",
    "[B] Belfiore, Patrícia Prado. Fávero, Luiz Paulo Lopes. Lima, Gerlando A. S. Franco. Modelos de precificação hedônica de imóveis residenciais na região metropolitana de São Paulo: uma abordagem sob as perspectivas da demanda e da oferta. São Paulo Jan./Mar. 2008. Estud. Econ. vol.38. Disponível em [http://www.scielo.br/scielo.php?script=sci_arttext&pid=S0101-41612008000100004](http://www.scielo.br/scielo.php?script=sci_arttext&pid=S0101-41612008000100004)\n",
    "\n",
    "[C] Kaggle. House Prices: Advanced Regression Techniques. Disponível em [https://www.kaggle.com/c/house-prices-advanced-regression-techniques/overview](https://www.kaggle.com/c/house-prices-advanced-regression-techniques/overview)"
   ]
  }
 ],
 "metadata": {
  "kernelspec": {
   "display_name": "Python [conda env:py3] *",
   "language": "python",
   "name": "conda-env-py3-py"
  },
  "language_info": {
   "codemirror_mode": {
    "name": "ipython",
    "version": 3
   },
   "file_extension": ".py",
   "mimetype": "text/x-python",
   "name": "python",
   "nbconvert_exporter": "python",
   "pygments_lexer": "ipython3",
   "version": "3.7.3"
  }
 },
 "nbformat": 4,
 "nbformat_minor": 2
}
